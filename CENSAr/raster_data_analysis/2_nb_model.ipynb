{
 "cells": [
  {
   "cell_type": "code",
   "execution_count": 1,
   "metadata": {},
   "outputs": [],
   "source": [
    "import os\n",
    "import numpy as np\n",
    "import pandas as pd\n",
    "import geopandas as gpd\n",
    "from shapely.geometry import shape\n",
    "from skimage.io import imsave, imread\n",
    "\n",
    "import rasterio\n",
    "from rasterio.features import shapes\n",
    "from sklearn.model_selection import train_test_split\n",
    "from sklearn.neighbors import KNeighborsClassifier\n",
    "from sklearn.metrics import confusion_matrix, precision_score, recall_score, roc_curve, auc, accuracy_score\n",
    "\n",
    "import matplotlib.pyplot as plt\n",
    "from matplotlib.colors import ListedColormap\n",
    "import seaborn as sns\n",
    "from matplotlib import pyplot"
   ]
  },
  {
   "cell_type": "markdown",
   "metadata": {},
   "source": [
    "# VARIABLES AND FOLDERS"
   ]
  },
  {
   "cell_type": "code",
   "execution_count": 2,
   "metadata": {},
   "outputs": [],
   "source": [
    "project_path = \"./\"\n",
    "sat_img_folders = \"landsat_8_2022\" # \"landsat_5_2010\" # \"landsat_7_1999\" # \n",
    "\n",
    "img_path = \"./muestras/\"+sat_img_folders+\"/\"\n",
    "img_sat_aoi_folder = \"./aoi/\"+sat_img_folders+\"/\"\n",
    "img_sat_aoi = \"./aoi/\"+sat_img_folders+\"/area_de_estudio_\"+sat_img_folders+\".tif\""
   ]
  },
  {
   "cell_type": "code",
   "execution_count": 3,
   "metadata": {},
   "outputs": [
    {
     "name": "stdout",
     "output_type": "stream",
     "text": [
      "56\n",
      "[['darkwater', 'darkwater_11_10.tif'], ['darkwater', 'darkwater_12_11.tif'], ['darkwater', 'darkwater_16_14.tif'], ['darkwater', 'darkwater_17_15.tif'], ['darkwater', 'darkwater_8_7.tif'], ['sand', 'sand_18_16.tif'], ['sand', 'sand_19_17.tif'], ['sand', 'sand_20_18.tif'], ['sand', 'sand_21_19.tif'], ['sand', 'sand_22_20.tif'], ['sand', 'sand_23_21.tif'], ['sand', 'sand_24_22.tif'], ['sand', 'sand_25_23.tif'], ['sand', 'sand_27_24.tif'], ['sand', 'sand_28_25.tif'], ['tngreen', 'tngreen_36_32.tif'], ['tng', 'tng_41_39.tif'], ['tng', 'tng_42_40.tif'], ['tng', 'tng_43_41.tif'], ['tng', 'tng_48_46.tif'], ['tng', 'tng_48_47.tif'], ['tng', 'tng_56_55.tif'], ['tnlow', 'tnlow_36_34.tif'], ['tnlow', 'tnlow_52_51.tif'], ['tnlow', 'tnlow_54_52.tif'], ['tnlow', 'tnlow_56_54.tif'], ['tn', 'tn_31_27.tif'], ['tn', 'tn_32_28.tif'], ['tn', 'tn_33_29.tif'], ['tn', 'tn_34_30.tif'], ['tn', 'tn_35_31.tif'], ['tn', 'tn_37_36.tif'], ['tn', 'tn_38_37.tif'], ['tn', 'tn_40_38.tif'], ['tn', 'tn_49_48.tif'], ['tn', 'tn_50_49.tif'], ['tn', 'tn_52_50.tif'], ['tn', 'tn_low_36_33.tif'], ['tn', 'tn_low_36_35.tif'], ['urban', 'urban_1_0.tif'], ['urban', 'urban_2_1.tif'], ['urban', 'urban_30_26.tif'], ['urban', 'urban_3_2.tif'], ['urban', 'urban_4_3.tif'], ['urban', 'urban_55_53.tif'], ['urban', 'urban_5_4.tif'], ['urban', 'urban_6_5.tif'], ['water', 'water_10_9.tif'], ['water', 'water_13_12.tif'], ['water', 'water_14_13.tif'], ['water', 'water_44_42.tif'], ['water', 'water_46_43.tif'], ['water', 'water_46_44.tif'], ['water', 'water_47_45.tif'], ['water', 'water_7_6.tif'], ['water', 'water_9_8.tif']]\n"
     ]
    }
   ],
   "source": [
    "img_list = os.listdir(img_path)\n",
    "muestras_list = []\n",
    "for i in img_list:\n",
    "    muestras_list.append([i.split(\"_\")[0],i])\n",
    "print(len(muestras_list))\n",
    "print(muestras_list)"
   ]
  },
  {
   "cell_type": "code",
   "execution_count": 4,
   "metadata": {},
   "outputs": [],
   "source": [
    "df_img = pd.DataFrame([], columns=['b1', 'b2', 'b3', 'b4', 'b5', 'b6', 'b7', 'evi', 'gndvi', 'MSI', 'NDBI', 'NDMI', 'ndvi', 'NDWI', 'savi', \"class\"])\n",
    "\n",
    "for m in range(len(muestras_list)):\n",
    "\n",
    "    img = imread(img_path+muestras_list[m][1])\n",
    "\n",
    "    for i in range(len(img)):\n",
    "        df_img_col = pd.DataFrame(img[i], columns=['b1', 'b2', 'b3', 'b4', 'b5', 'b6', 'b7', 'evi', 'gndvi', 'MSI', 'NDBI', 'NDMI', 'ndvi', 'NDWI', 'savi', ])\n",
    "        df_img_col['class'] = muestras_list[m][0]\n",
    "        df_img = pd.concat([df_img, df_img_col])"
   ]
  },
  {
   "cell_type": "code",
   "execution_count": 5,
   "metadata": {},
   "outputs": [
    {
     "name": "stdout",
     "output_type": "stream",
     "text": [
      "247496\n",
      "240786\n"
     ]
    },
    {
     "data": {
      "text/html": [
       "<div>\n",
       "<style scoped>\n",
       "    .dataframe tbody tr th:only-of-type {\n",
       "        vertical-align: middle;\n",
       "    }\n",
       "\n",
       "    .dataframe tbody tr th {\n",
       "        vertical-align: top;\n",
       "    }\n",
       "\n",
       "    .dataframe thead th {\n",
       "        text-align: right;\n",
       "    }\n",
       "</style>\n",
       "<table border=\"1\" class=\"dataframe\">\n",
       "  <thead>\n",
       "    <tr style=\"text-align: right;\">\n",
       "      <th></th>\n",
       "      <th>b1</th>\n",
       "      <th>b2</th>\n",
       "      <th>b3</th>\n",
       "      <th>b4</th>\n",
       "      <th>b5</th>\n",
       "      <th>b6</th>\n",
       "      <th>b7</th>\n",
       "      <th>evi</th>\n",
       "      <th>gndvi</th>\n",
       "      <th>MSI</th>\n",
       "      <th>NDBI</th>\n",
       "      <th>NDMI</th>\n",
       "      <th>ndvi</th>\n",
       "      <th>NDWI</th>\n",
       "      <th>savi</th>\n",
       "      <th>class</th>\n",
       "    </tr>\n",
       "  </thead>\n",
       "  <tbody>\n",
       "    <tr>\n",
       "      <th>0</th>\n",
       "      <td>163.0</td>\n",
       "      <td>136.0</td>\n",
       "      <td>162.0</td>\n",
       "      <td>65.0</td>\n",
       "      <td>29.0</td>\n",
       "      <td>162.0</td>\n",
       "      <td>29.0</td>\n",
       "      <td>0.096154</td>\n",
       "      <td>-0.025641</td>\n",
       "      <td>0.289474</td>\n",
       "      <td>-0.551020</td>\n",
       "      <td>0.551020</td>\n",
       "      <td>-0.182796</td>\n",
       "      <td>0.025641</td>\n",
       "      <td>-0.945866</td>\n",
       "      <td>darkwater</td>\n",
       "    </tr>\n",
       "    <tr>\n",
       "      <th>1</th>\n",
       "      <td>165.0</td>\n",
       "      <td>141.0</td>\n",
       "      <td>165.0</td>\n",
       "      <td>62.0</td>\n",
       "      <td>20.0</td>\n",
       "      <td>162.0</td>\n",
       "      <td>14.0</td>\n",
       "      <td>0.114025</td>\n",
       "      <td>-0.051282</td>\n",
       "      <td>0.189189</td>\n",
       "      <td>-0.681818</td>\n",
       "      <td>0.681818</td>\n",
       "      <td>-0.212766</td>\n",
       "      <td>0.051282</td>\n",
       "      <td>-1.108214</td>\n",
       "      <td>darkwater</td>\n",
       "    </tr>\n",
       "    <tr>\n",
       "      <th>2</th>\n",
       "      <td>163.0</td>\n",
       "      <td>141.0</td>\n",
       "      <td>164.0</td>\n",
       "      <td>65.0</td>\n",
       "      <td>20.0</td>\n",
       "      <td>154.0</td>\n",
       "      <td>14.0</td>\n",
       "      <td>0.103211</td>\n",
       "      <td>-0.037975</td>\n",
       "      <td>0.184211</td>\n",
       "      <td>-0.688889</td>\n",
       "      <td>0.688889</td>\n",
       "      <td>-0.191489</td>\n",
       "      <td>0.037975</td>\n",
       "      <td>-1.103172</td>\n",
       "      <td>darkwater</td>\n",
       "    </tr>\n",
       "    <tr>\n",
       "      <th>3</th>\n",
       "      <td>166.0</td>\n",
       "      <td>141.0</td>\n",
       "      <td>164.0</td>\n",
       "      <td>65.0</td>\n",
       "      <td>20.0</td>\n",
       "      <td>154.0</td>\n",
       "      <td>22.0</td>\n",
       "      <td>0.099778</td>\n",
       "      <td>-0.037975</td>\n",
       "      <td>0.184211</td>\n",
       "      <td>-0.688889</td>\n",
       "      <td>0.688889</td>\n",
       "      <td>-0.191489</td>\n",
       "      <td>0.037975</td>\n",
       "      <td>-1.103172</td>\n",
       "      <td>darkwater</td>\n",
       "    </tr>\n",
       "    <tr>\n",
       "      <th>4</th>\n",
       "      <td>152.0</td>\n",
       "      <td>141.0</td>\n",
       "      <td>164.0</td>\n",
       "      <td>65.0</td>\n",
       "      <td>20.0</td>\n",
       "      <td>154.0</td>\n",
       "      <td>15.0</td>\n",
       "      <td>0.108827</td>\n",
       "      <td>-0.037975</td>\n",
       "      <td>0.184211</td>\n",
       "      <td>-0.688889</td>\n",
       "      <td>0.688889</td>\n",
       "      <td>-0.191489</td>\n",
       "      <td>0.037975</td>\n",
       "      <td>-1.103172</td>\n",
       "      <td>darkwater</td>\n",
       "    </tr>\n",
       "  </tbody>\n",
       "</table>\n",
       "</div>"
      ],
      "text/plain": [
       "      b1     b2     b3    b4    b5     b6    b7       evi     gndvi       MSI  \\\n",
       "0  163.0  136.0  162.0  65.0  29.0  162.0  29.0  0.096154 -0.025641  0.289474   \n",
       "1  165.0  141.0  165.0  62.0  20.0  162.0  14.0  0.114025 -0.051282  0.189189   \n",
       "2  163.0  141.0  164.0  65.0  20.0  154.0  14.0  0.103211 -0.037975  0.184211   \n",
       "3  166.0  141.0  164.0  65.0  20.0  154.0  22.0  0.099778 -0.037975  0.184211   \n",
       "4  152.0  141.0  164.0  65.0  20.0  154.0  15.0  0.108827 -0.037975  0.184211   \n",
       "\n",
       "       NDBI      NDMI      ndvi      NDWI      savi      class  \n",
       "0 -0.551020  0.551020 -0.182796  0.025641 -0.945866  darkwater  \n",
       "1 -0.681818  0.681818 -0.212766  0.051282 -1.108214  darkwater  \n",
       "2 -0.688889  0.688889 -0.191489  0.037975 -1.103172  darkwater  \n",
       "3 -0.688889  0.688889 -0.191489  0.037975 -1.103172  darkwater  \n",
       "4 -0.688889  0.688889 -0.191489  0.037975 -1.103172  darkwater  "
      ]
     },
     "execution_count": 5,
     "metadata": {},
     "output_type": "execute_result"
    }
   ],
   "source": [
    "print(len(df_img))\n",
    "df_img = df_img.loc[(df_img.b2 != 0) & (df_img.b3 != 0) & (df_img.b4 != 0)]\n",
    "df_img.loc[(df_img['class'] == 1) | (df_img['class'] == 2)]\n",
    "df_img.replace([np.inf, -np.inf], np.nan, inplace=True)\n",
    "df_img.dropna(how=\"all\", inplace=True)\n",
    "df_img.fillna(0, inplace=True)\n",
    "df_img.reset_index(inplace=True, drop=True)\n",
    "for c in list(df_img.columns):\n",
    "    if c != 'class':\n",
    "        df_img[c] = df_img[c].astype(float)\n",
    "print(len(df_img))\n",
    "df_img.head()"
   ]
  },
  {
   "cell_type": "code",
   "execution_count": 5,
   "metadata": {},
   "outputs": [],
   "source": [
    "df_img.loc[df_img['class']=='tngreen', ['class']] = 'tng'"
   ]
  },
  {
   "cell_type": "code",
   "execution_count": 6,
   "metadata": {},
   "outputs": [
    {
     "name": "stdout",
     "output_type": "stream",
     "text": [
      "0 darkwater\n",
      "1 sand\n",
      "2 tng\n",
      "3 tnlow\n",
      "4 tn\n",
      "5 urban\n",
      "6 water\n",
      "[0, 1, 2, 3, 4, 5, 6]\n"
     ]
    }
   ],
   "source": [
    "for i, c in enumerate(list(df_img['class'].unique())):\n",
    "    df_img.loc[df_img['class']==c, ['class']] = i\n",
    "    print(i,c)\n",
    "print(list(df_img['class'].unique()))"
   ]
  },
  {
   "attachments": {},
   "cell_type": "markdown",
   "metadata": {},
   "source": [
    "### TRAIN"
   ]
  },
  {
   "cell_type": "code",
   "execution_count": 13,
   "metadata": {},
   "outputs": [],
   "source": [
    "df_img.loc[df_img['class']!=5, 'class'] = 0\n",
    "df_img.loc[df_img['class']==5, 'class'] = 1"
   ]
  },
  {
   "cell_type": "code",
   "execution_count": 14,
   "metadata": {},
   "outputs": [
    {
     "name": "stdout",
     "output_type": "stream",
     "text": [
      "0    0.87374\n",
      "1    0.12626\n",
      "Name: class, dtype: float64\n",
      "0    0.873745\n",
      "1    0.126255\n",
      "Name: class, dtype: float64\n"
     ]
    }
   ],
   "source": [
    "X = df_img.drop(columns='class')\n",
    "y = df_img.loc[:,'class']\n",
    "\n",
    "X_train, X_test, y_train, y_test = train_test_split(X, y, test_size=.4, random_state=42, stratify=y)\n",
    "print(y_train.value_counts(normalize=True))\n",
    "print(y_test.value_counts(normalize=True))"
   ]
  },
  {
   "cell_type": "code",
   "execution_count": 15,
   "metadata": {},
   "outputs": [
    {
     "name": "stdout",
     "output_type": "stream",
     "text": [
      "score:  0.9686746137280975  - k:  1\n",
      "score:  0.9879028936560798  - k:  2\n",
      "score:  0.9891149578131068  - k:  3\n",
      "score:  0.9884912743148307  - k:  4\n",
      "score:  0.9890443521340566  - k:  5\n",
      "score:  0.9885736476070559  - k:  6\n",
      "score:  0.9888678379364314  - k:  7\n",
      "score:  0.9885736476070559  - k:  8\n",
      "score:  0.9888089998705563  - k:  9\n",
      "score:  0.9886207180597559  - k:  10\n",
      "score:  0.9887619294178561  - k:  11\n",
      "score:  0.9884677390884807  - k:  12\n",
      "score:  0.9885148095411808  - k:  13\n",
      "score:  0.9883618305699055  - k:  14\n"
     ]
    }
   ],
   "source": [
    "y=y.astype('int')\n",
    "y_train=y_train.astype('int')\n",
    "y_test=y_test.astype('int')\n",
    "\n",
    "for k in range(1,15,1):                      \n",
    "    clf = KNeighborsClassifier(k)\n",
    "    clf.fit(X_train.astype(int), y_train.astype(int))\n",
    "    score = clf.score(X_test, y_test)\n",
    "    print('score: ',score, ' - k: ', k)"
   ]
  },
  {
   "attachments": {},
   "cell_type": "markdown",
   "metadata": {},
   "source": [
    "### PREDICT"
   ]
  },
  {
   "cell_type": "code",
   "execution_count": 16,
   "metadata": {},
   "outputs": [
    {
     "name": "stdout",
     "output_type": "stream",
     "text": [
      "score: 0.9895879423477024\n"
     ]
    },
    {
     "data": {
      "text/plain": [
       "array([[185292,    331],\n",
       "       [  1881,  24942]], dtype=int64)"
      ]
     },
     "execution_count": 16,
     "metadata": {},
     "output_type": "execute_result"
    }
   ],
   "source": [
    "modelo = KNeighborsClassifier(10)\n",
    "modelo.fit(X, y)\n",
    "print(\"score:\", modelo.score(X, y))\n",
    "\n",
    "y_pred_model = modelo.predict(X)\n",
    "confusion_matrix(y, y_pred_model)"
   ]
  },
  {
   "cell_type": "code",
   "execution_count": 17,
   "metadata": {},
   "outputs": [
    {
     "data": {
      "text/plain": [
       "Text(0.5, 80.7222222222222, 'Valores predichos')"
      ]
     },
     "execution_count": 17,
     "metadata": {},
     "output_type": "execute_result"
    },
    {
     "data": {
      "image/png": "[encoded data removed]",
      "text/plain": [
       "<Figure size 1500x1000 with 2 Axes>"
      ]
     },
     "metadata": {},
     "output_type": "display_data"
    }
   ],
   "source": [
    "fig, ax = pyplot.subplots(figsize=(15,10))\n",
    "sns.heatmap(confusion_matrix(y, y_pred_model), annot=True)\n",
    "plt.ylabel('Valores verdaderos')\n",
    "plt.xlabel('Valores predichos')"
   ]
  },
  {
   "cell_type": "code",
   "execution_count": 18,
   "metadata": {},
   "outputs": [
    {
     "name": "stdout",
     "output_type": "stream",
     "text": [
      "896 x 1374 = 1231104\n"
     ]
    }
   ],
   "source": [
    "img_sat = imread(img_sat_aoi)\n",
    "col_dim = len(img_sat)\n",
    "row_dim = len(img_sat[0])\n",
    "band_dim = len(img_sat[0][0])\n",
    "print(col_dim, \"x\", row_dim, \"=\", col_dim*row_dim)\n",
    "\n",
    "img_sat_reshape = img_sat.reshape(col_dim * row_dim, band_dim)\n",
    "df_img_sat = pd.DataFrame(img_sat_reshape, columns=['b1', 'b2', 'b3', 'b4', 'b5', 'b6', 'b7', 'evi', 'gndvi', 'MSI', 'NDBI', 'NDMI', 'ndvi', 'NDWI', 'savi'])"
   ]
  },
  {
   "cell_type": "code",
   "execution_count": 19,
   "metadata": {},
   "outputs": [
    {
     "name": "stdout",
     "output_type": "stream",
     "text": [
      "1231104\n"
     ]
    },
    {
     "data": {
      "text/html": [
       "<div>\n",
       "<style scoped>\n",
       "    .dataframe tbody tr th:only-of-type {\n",
       "        vertical-align: middle;\n",
       "    }\n",
       "\n",
       "    .dataframe tbody tr th {\n",
       "        vertical-align: top;\n",
       "    }\n",
       "\n",
       "    .dataframe thead th {\n",
       "        text-align: right;\n",
       "    }\n",
       "</style>\n",
       "<table border=\"1\" class=\"dataframe\">\n",
       "  <thead>\n",
       "    <tr style=\"text-align: right;\">\n",
       "      <th></th>\n",
       "      <th>b1</th>\n",
       "      <th>b2</th>\n",
       "      <th>b3</th>\n",
       "      <th>b4</th>\n",
       "      <th>b5</th>\n",
       "      <th>b6</th>\n",
       "      <th>b7</th>\n",
       "      <th>evi</th>\n",
       "      <th>gndvi</th>\n",
       "      <th>MSI</th>\n",
       "      <th>NDBI</th>\n",
       "      <th>NDMI</th>\n",
       "      <th>ndvi</th>\n",
       "      <th>NDWI</th>\n",
       "      <th>savi</th>\n",
       "    </tr>\n",
       "  </thead>\n",
       "  <tbody>\n",
       "    <tr>\n",
       "      <th>0</th>\n",
       "      <td>0.0</td>\n",
       "      <td>0.0</td>\n",
       "      <td>0.0</td>\n",
       "      <td>0.0</td>\n",
       "      <td>0.0</td>\n",
       "      <td>0.0</td>\n",
       "      <td>0.0</td>\n",
       "      <td>0.0</td>\n",
       "      <td>0.0</td>\n",
       "      <td>0.0</td>\n",
       "      <td>0.0</td>\n",
       "      <td>0.0</td>\n",
       "      <td>0.0</td>\n",
       "      <td>0.0</td>\n",
       "      <td>0.0</td>\n",
       "    </tr>\n",
       "    <tr>\n",
       "      <th>1</th>\n",
       "      <td>0.0</td>\n",
       "      <td>0.0</td>\n",
       "      <td>0.0</td>\n",
       "      <td>0.0</td>\n",
       "      <td>0.0</td>\n",
       "      <td>0.0</td>\n",
       "      <td>0.0</td>\n",
       "      <td>0.0</td>\n",
       "      <td>0.0</td>\n",
       "      <td>0.0</td>\n",
       "      <td>0.0</td>\n",
       "      <td>0.0</td>\n",
       "      <td>0.0</td>\n",
       "      <td>0.0</td>\n",
       "      <td>0.0</td>\n",
       "    </tr>\n",
       "    <tr>\n",
       "      <th>2</th>\n",
       "      <td>0.0</td>\n",
       "      <td>0.0</td>\n",
       "      <td>0.0</td>\n",
       "      <td>0.0</td>\n",
       "      <td>0.0</td>\n",
       "      <td>0.0</td>\n",
       "      <td>0.0</td>\n",
       "      <td>0.0</td>\n",
       "      <td>0.0</td>\n",
       "      <td>0.0</td>\n",
       "      <td>0.0</td>\n",
       "      <td>0.0</td>\n",
       "      <td>0.0</td>\n",
       "      <td>0.0</td>\n",
       "      <td>0.0</td>\n",
       "    </tr>\n",
       "  </tbody>\n",
       "</table>\n",
       "</div>"
      ],
      "text/plain": [
       "    b1   b2   b3   b4   b5   b6   b7  evi  gndvi  MSI  NDBI  NDMI  ndvi  NDWI  \\\n",
       "0  0.0  0.0  0.0  0.0  0.0  0.0  0.0  0.0    0.0  0.0   0.0   0.0   0.0   0.0   \n",
       "1  0.0  0.0  0.0  0.0  0.0  0.0  0.0  0.0    0.0  0.0   0.0   0.0   0.0   0.0   \n",
       "2  0.0  0.0  0.0  0.0  0.0  0.0  0.0  0.0    0.0  0.0   0.0   0.0   0.0   0.0   \n",
       "\n",
       "   savi  \n",
       "0   0.0  \n",
       "1   0.0  \n",
       "2   0.0  "
      ]
     },
     "execution_count": 19,
     "metadata": {},
     "output_type": "execute_result"
    }
   ],
   "source": [
    "df_img_sat.replace([np.inf, -np.inf], np.nan, inplace=True)\n",
    "# df_img.dropna(how=\"all\", inplace=True)\n",
    "df_img_sat.fillna(0, inplace=True)\n",
    "df_img_sat.reset_index(inplace=True, drop=True)\n",
    "print(len(df_img_sat))\n",
    "df_img_sat.head(3)"
   ]
  },
  {
   "cell_type": "code",
   "execution_count": 20,
   "metadata": {},
   "outputs": [],
   "source": [
    "y_pred = modelo.predict(df_img_sat)\n",
    "df_img_sat['clase'] = y_pred"
   ]
  },
  {
   "attachments": {},
   "cell_type": "markdown",
   "metadata": {},
   "source": [
    "### EXPORT IMG"
   ]
  },
  {
   "cell_type": "code",
   "execution_count": 21,
   "metadata": {},
   "outputs": [
    {
     "name": "stdout",
     "output_type": "stream",
     "text": [
      "(896, 1374)\n"
     ]
    },
    {
     "name": "stderr",
     "output_type": "stream",
     "text": [
      "C:\\Users\\Compumar\\AppData\\Local\\Temp\\ipykernel_10504\\3628152368.py:22: UserWarning: ./aoi/landsat_8_2022/area_de_estudio_landsat_8_2022_class.tif is a low contrast image\n",
      "  imsave(img_sat_aoi_folder+\"area_de_estudio_\"+sat_img_folders+\"_class.tif\", lista_pixels)\n"
     ]
    }
   ],
   "source": [
    "\"\"\" def color_class_index(df):\n",
    "    df['clase_2'] = 0\n",
    "    df.loc[df.clase == 5, 'clase_2'] = 1\n",
    "    df.loc[df.clase != 5, 'clase_2'] = 2\n",
    "\n",
    "    return df.loc[:,['clase_2']]\n",
    "\n",
    "df_img_2 = df_img_sat.copy()\n",
    "df_img_2 = color_class_index(df_img_2)\n",
    "df_img_2 = df_img_2['clase_2'] \"\"\"\n",
    "\n",
    "df_img_2 = df_img_sat['clase']\n",
    "\n",
    "lista_pixels = []\n",
    "for d in range(len(img_sat)):\n",
    "    first_pixel = len(img_sat[0]) * d\n",
    "    last_pixel = len(img_sat[0]) * (d+1)\n",
    "    row = [l for l in df_img_2[first_pixel:last_pixel].values]\n",
    "    lista_pixels.append(row)\n",
    "lista_pixels = np.array(lista_pixels)\n",
    "print(lista_pixels.shape)\n",
    "imsave(img_sat_aoi_folder+\"area_de_estudio_\"+sat_img_folders+\"_class.tif\", lista_pixels)"
   ]
  },
  {
   "cell_type": "code",
   "execution_count": 22,
   "metadata": {},
   "outputs": [
    {
     "name": "stderr",
     "output_type": "stream",
     "text": [
      "c:\\Users\\Compumar\\anaconda3\\envs\\GeoAnalysis_Raste\\lib\\site-packages\\rasterio\\__init__.py:220: NotGeoreferencedWarning: Dataset has no geotransform, gcps, or rpcs. The identity matrix be returned.\n",
      "  s = DatasetReader(path, driver=driver, sharing=sharing, **kwargs)\n"
     ]
    }
   ],
   "source": [
    "# load classify image\n",
    "img_not_georef_open = rasterio.open(img_sat_aoi_folder+\"area_de_estudio_\"+sat_img_folders+\"_class.tif\")\n",
    "img_not_georef = img_not_georef_open.read()\n",
    "# load a band of the original satellite image\n",
    "img_georef_open = rasterio.open(img_sat_aoi_folder+'area_de_estudio_'+sat_img_folders+'.tif')\n",
    "img_georef = img_georef_open.read(1)\n",
    "\n",
    "# extract and modify the original image metadata\n",
    "meta = img_georef_open.meta\n",
    "meta.update(count=1)\n",
    "\n",
    "# replace the array values\n",
    "img_georef = img_not_georef[0]\n",
    "\n",
    "# save the image with modify values\n",
    "with rasterio.open(img_sat_aoi_folder+\"area_de_estudio_\"+sat_img_folders+\"_class_georef.tif\", 'w', **meta) as dst:\n",
    "    dst.write(np.array([img_georef]).astype(rasterio.float32)) \n",
    "\n",
    "img_not_georef_open.close()\n",
    "img_georef_open.close()\n",
    "dst.close()"
   ]
  },
  {
   "cell_type": "markdown",
   "metadata": {},
   "source": [
    "### POLYGONIZE"
   ]
  },
  {
   "cell_type": "code",
   "execution_count": 23,
   "metadata": {},
   "outputs": [],
   "source": [
    "mask = None\n",
    "with rasterio.Env():\n",
    "    with rasterio.open(img_sat_aoi_folder+'area_de_estudio_'+sat_img_folders+'_class_georef.tif') as src:\n",
    "        image = src.read(1) # first band\n",
    "        results = (\n",
    "            {'properties': {'raster_val': v}, 'geometry': s}\n",
    "            for i, (s, v) in enumerate(\n",
    "                shapes(image, mask=mask, transform=src.transform))\n",
    "        )\n",
    "src.close()\n",
    "gpd_polygonized_raster = gpd.GeoDataFrame.from_features(list(results)) \n",
    "gpd_polygonized_raster = gpd_polygonized_raster.set_crs('epsg:32621')\n",
    "gpd_polygonized_raster.to_file(\"./shp/poly_raster_\"+sat_img_folders+\".shp\")\n",
    "gpd_polygonized_raster.loc[gpd_polygonized_raster.raster_val == 1].to_file(\"./shp/poly_raster_urban_\"+sat_img_folders+\".shp\")"
   ]
  },
  {
   "cell_type": "code",
   "execution_count": null,
   "metadata": {},
   "outputs": [],
   "source": []
  }
 ],
 "metadata": {
  "kernelspec": {
   "display_name": "GeoAnalysis_Raste",
   "language": "python",
   "name": "python3"
  },
  "language_info": {
   "codemirror_mode": {
    "name": "ipython",
    "version": 3
   },
   "file_extension": ".py",
   "mimetype": "text/x-python",
   "name": "python",
   "nbconvert_exporter": "python",
   "pygments_lexer": "ipython3",
   "version": "3.8.16"
  },
  "orig_nbformat": 4,
  "vscode": {
   "interpreter": {
    "hash": "3899404ed7cf6a467fd8d45e0fd41c9fe6e61c515ab819a5505e84c3d483adb9"
   }
  }
 },
 "nbformat": 4,
 "nbformat_minor": 2
}
