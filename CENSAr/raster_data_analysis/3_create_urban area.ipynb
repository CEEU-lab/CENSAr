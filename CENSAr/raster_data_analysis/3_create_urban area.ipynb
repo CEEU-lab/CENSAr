{
 "cells": [
  {
   "cell_type": "code",
   "execution_count": 38,
   "metadata": {},
   "outputs": [],
   "source": [
    "import pandas as pd\n",
    "import geopandas as gpd"
   ]
  },
  {
   "cell_type": "code",
   "execution_count": null,
   "metadata": {},
   "outputs": [],
   "source": [
    "project_path = \"./\"\n",
    "sat_img_folders = \"landsat_8_2022\" # \"landsat_5_2010\" # \"landsat_7_1999\" # "
   ]
  },
  {
   "cell_type": "code",
   "execution_count": 72,
   "metadata": {},
   "outputs": [],
   "source": [
    "gdb_1999 = gpd.read_file(\"./results/shp_urban_classification/poly_urban_1999_3857.geojson\")\n",
    "gdb_2010 = gpd.read_file(\"./results/shp_urban_classification/poly_urban_2010_3857.geojson\")\n",
    "gdb_2022 = gpd.read_file(\"./results/shp_urban_classification/poly_urban_2022_3857.geojson\")\n",
    "gdb_2023 = gpd.read_file(\"./results/shp_urban_classification/poly_urban_2023_3857.geojson\")"
   ]
  },
  {
   "cell_type": "code",
   "execution_count": 87,
   "metadata": {},
   "outputs": [
    {
     "data": {
      "text/html": [
       "<div>\n",
       "<style scoped>\n",
       "    .dataframe tbody tr th:only-of-type {\n",
       "        vertical-align: middle;\n",
       "    }\n",
       "\n",
       "    .dataframe tbody tr th {\n",
       "        vertical-align: top;\n",
       "    }\n",
       "\n",
       "    .dataframe thead th {\n",
       "        text-align: right;\n",
       "    }\n",
       "</style>\n",
       "<table border=\"1\" class=\"dataframe\">\n",
       "  <thead>\n",
       "    <tr style=\"text-align: right;\">\n",
       "      <th></th>\n",
       "      <th>raster_val</th>\n",
       "      <th>geometry</th>\n",
       "    </tr>\n",
       "  </thead>\n",
       "  <tbody>\n",
       "    <tr>\n",
       "      <th>0</th>\n",
       "      <td>5.0</td>\n",
       "      <td>MULTIPOLYGON (((-6566238.857 -3168601.942, -65...</td>\n",
       "    </tr>\n",
       "    <tr>\n",
       "      <th>1</th>\n",
       "      <td>5.0</td>\n",
       "      <td>MULTIPOLYGON (((-6566002.620 -3168605.724, -65...</td>\n",
       "    </tr>\n",
       "    <tr>\n",
       "      <th>2</th>\n",
       "      <td>5.0</td>\n",
       "      <td>MULTIPOLYGON (((-6563370.245 -3168647.592, -65...</td>\n",
       "    </tr>\n",
       "    <tr>\n",
       "      <th>3</th>\n",
       "      <td>5.0</td>\n",
       "      <td>MULTIPOLYGON (((-6559624.096 -3168706.310, -65...</td>\n",
       "    </tr>\n",
       "    <tr>\n",
       "      <th>4</th>\n",
       "      <td>5.0</td>\n",
       "      <td>MULTIPOLYGON (((-6559286.601 -3168711.550, -65...</td>\n",
       "    </tr>\n",
       "    <tr>\n",
       "      <th>...</th>\n",
       "      <td>...</td>\n",
       "      <td>...</td>\n",
       "    </tr>\n",
       "    <tr>\n",
       "      <th>6682</th>\n",
       "      <td>5.0</td>\n",
       "      <td>MULTIPOLYGON (((-6559008.921 -3198952.417, -65...</td>\n",
       "    </tr>\n",
       "    <tr>\n",
       "      <th>6683</th>\n",
       "      <td>5.0</td>\n",
       "      <td>MULTIPOLYGON (((-6558976.149 -3199020.949, -65...</td>\n",
       "    </tr>\n",
       "    <tr>\n",
       "      <th>6684</th>\n",
       "      <td>5.0</td>\n",
       "      <td>MULTIPOLYGON (((-6557859.975 -3199038.335, -65...</td>\n",
       "    </tr>\n",
       "    <tr>\n",
       "      <th>6685</th>\n",
       "      <td>5.0</td>\n",
       "      <td>MULTIPOLYGON (((-6550385.798 -3199220.435, -65...</td>\n",
       "    </tr>\n",
       "    <tr>\n",
       "      <th>6686</th>\n",
       "      <td>5.0</td>\n",
       "      <td>MULTIPOLYGON (((-6550318.147 -3199221.449, -65...</td>\n",
       "    </tr>\n",
       "  </tbody>\n",
       "</table>\n",
       "<p>6687 rows × 2 columns</p>\n",
       "</div>"
      ],
      "text/plain": [
       "      raster_val                                           geometry\n",
       "0            5.0  MULTIPOLYGON (((-6566238.857 -3168601.942, -65...\n",
       "1            5.0  MULTIPOLYGON (((-6566002.620 -3168605.724, -65...\n",
       "2            5.0  MULTIPOLYGON (((-6563370.245 -3168647.592, -65...\n",
       "3            5.0  MULTIPOLYGON (((-6559624.096 -3168706.310, -65...\n",
       "4            5.0  MULTIPOLYGON (((-6559286.601 -3168711.550, -65...\n",
       "...          ...                                                ...\n",
       "6682         5.0  MULTIPOLYGON (((-6559008.921 -3198952.417, -65...\n",
       "6683         5.0  MULTIPOLYGON (((-6558976.149 -3199020.949, -65...\n",
       "6684         5.0  MULTIPOLYGON (((-6557859.975 -3199038.335, -65...\n",
       "6685         5.0  MULTIPOLYGON (((-6550385.798 -3199220.435, -65...\n",
       "6686         5.0  MULTIPOLYGON (((-6550318.147 -3199221.449, -65...\n",
       "\n",
       "[6687 rows x 2 columns]"
      ]
     },
     "execution_count": 87,
     "metadata": {},
     "output_type": "execute_result"
    }
   ],
   "source": [
    "gdb_1999"
   ]
  },
  {
   "cell_type": "code",
   "execution_count": 94,
   "metadata": {},
   "outputs": [],
   "source": [
    "def process_urban_area (gdf, file_name):\n",
    "    gdf.geometry = gdf.buffer(25)\n",
    "    gdf.geometry = gdf.buffer(-15)\n",
    "    gdf = gdf.dissolve(by='raster_val')\n",
    "    gdf = gdf.explode()\n",
    "    gdf = gdf.loc[gdf.area > gdf.area.min()*1.4]\n",
    "    gdf.geometry = gdf.buffer(5)\n",
    "    gdf.geometry = gdf.buffer(-4)\n",
    "    gdf.to_file(\"./results/shp_urban_areas/\"+file_name+\".shp\")\n",
    "    print(\"----- FINISH:\", file_name)"
   ]
  },
  {
   "cell_type": "code",
   "execution_count": 98,
   "metadata": {},
   "outputs": [],
   "source": [
    "gdf_1 = gdb_1999.copy()\n",
    "gdf_2 = pd.concat([gdb_1999, gdb_2010])\n",
    "gdf_2['raster_val'] = 1\n",
    "gdf_3 = pd.concat([gdb_1999, gdb_2010, gdb_2022, gdb_2023])\n",
    "gdf_3['raster_val'] = 1"
   ]
  },
  {
   "cell_type": "code",
   "execution_count": 99,
   "metadata": {},
   "outputs": [
    {
     "name": "stderr",
     "output_type": "stream",
     "text": [
      "C:\\Users\\Compumar\\AppData\\Local\\Temp\\ipykernel_8348\\4005085856.py:5: FutureWarning: Currently, index_parts defaults to True, but in the future, it will default to False to be consistent with Pandas. Use `index_parts=True` to keep the current behavior and True/False to silence the warning.\n",
      "  gdf = gdf.explode()\n"
     ]
    },
    {
     "name": "stdout",
     "output_type": "stream",
     "text": [
      "----- FINISH: urban_area_1999\n"
     ]
    },
    {
     "name": "stderr",
     "output_type": "stream",
     "text": [
      "C:\\Users\\Compumar\\AppData\\Local\\Temp\\ipykernel_8348\\4005085856.py:5: FutureWarning: Currently, index_parts defaults to True, but in the future, it will default to False to be consistent with Pandas. Use `index_parts=True` to keep the current behavior and True/False to silence the warning.\n",
      "  gdf = gdf.explode()\n"
     ]
    },
    {
     "name": "stdout",
     "output_type": "stream",
     "text": [
      "----- FINISH: urban_area_2010\n"
     ]
    },
    {
     "name": "stderr",
     "output_type": "stream",
     "text": [
      "C:\\Users\\Compumar\\AppData\\Local\\Temp\\ipykernel_8348\\4005085856.py:5: FutureWarning: Currently, index_parts defaults to True, but in the future, it will default to False to be consistent with Pandas. Use `index_parts=True` to keep the current behavior and True/False to silence the warning.\n",
      "  gdf = gdf.explode()\n"
     ]
    },
    {
     "name": "stdout",
     "output_type": "stream",
     "text": [
      "----- FINISH: urban_area_2022\n"
     ]
    }
   ],
   "source": [
    "process_urban_area (gdf_1, \"urban_area_1999\")\n",
    "process_urban_area (gdf_2, \"urban_area_2010\")\n",
    "process_urban_area (gdf_3, \"urban_area_2022\")"
   ]
  },
  {
   "cell_type": "code",
   "execution_count": null,
   "metadata": {},
   "outputs": [],
   "source": []
  }
 ],
 "metadata": {
  "kernelspec": {
   "display_name": "GeoAnalysis_Raste",
   "language": "python",
   "name": "python3"
  },
  "language_info": {
   "codemirror_mode": {
    "name": "ipython",
    "version": 3
   },
   "file_extension": ".py",
   "mimetype": "text/x-python",
   "name": "python",
   "nbconvert_exporter": "python",
   "pygments_lexer": "ipython3",
   "version": "3.8.16"
  },
  "orig_nbformat": 4,
  "vscode": {
   "interpreter": {
    "hash": "3899404ed7cf6a467fd8d45e0fd41c9fe6e61c515ab819a5505e84c3d483adb9"
   }
  }
 },
 "nbformat": 4,
 "nbformat_minor": 2
}
