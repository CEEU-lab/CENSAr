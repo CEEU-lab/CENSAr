{
 "cells": [
  {
   "cell_type": "code",
   "execution_count": null,
   "metadata": {},
   "outputs": [],
   "source": [
    "%load_ext autoreload\n",
    "%autoreload 2"
   ]
  },
  {
   "cell_type": "code",
   "execution_count": null,
   "metadata": {},
   "outputs": [],
   "source": [
    "import os\n",
    "\n",
    "import pandas as pd\n",
    "import geopandas as gpd"
   ]
  },
  {
   "cell_type": "code",
   "execution_count": null,
   "metadata": {},
   "outputs": [],
   "source": [
    "import unicodedata\n",
    "\n",
    "\n",
    "def text_normalize(text: str) -> str:\n",
    "    text = unicodedata.normalize(\"NFKD\", text).encode(\"ascii\", \"ignore\").decode(\"utf-8\")\n",
    "    text = text.lower()\n",
    "    return text\n",
    "\n",
    "\n",
    "text = \"Local no construido para habitación\"\n",
    "print(f\"`{text}` -> `{text_normalize(text)}`\")"
   ]
  },
  {
   "attachments": {},
   "cell_type": "markdown",
   "metadata": {},
   "source": [
    "# Importar data"
   ]
  },
  {
   "cell_type": "code",
   "execution_count": null,
   "metadata": {},
   "outputs": [],
   "source": [
    "CENSAR_DATA_URI = os.getenv(\n",
    "    \"CENSAR_DATA_URI\", \"https://storage.googleapis.com/python_mdg/censar_data\"\n",
    ")\n",
    "CENSAR_CARTO_URI = os.getenv(\n",
    "    \"CENSAR_CARTO_URI\", \"https://storage.googleapis.com/python_mdg/censar_carto\"\n",
    ")\n",
    "\n",
    "\n",
    "def tipoviv_radios_prov(year, prov, var_types, root=CENSAR_DATA_URI):\n",
    "    path = f\"{root}/tipo_vivienda_radios_{prov}_{year}.csv\"\n",
    "    print(path)\n",
    "    tipoviv_radio = pd.read_csv(path, dtype=var_types)\n",
    "    tipoviv_radio.columns = [text_normalize(col) for col in tipoviv_radio.columns]\n",
    "    return tipoviv_radio\n",
    "\n",
    "\n",
    "viviendas_2001 = tipoviv_radios_prov(\n",
    "    year=2001,\n",
    "    prov=\"corrientes\",\n",
    "    var_types={\"LINK\": \"object\"},\n",
    "    root=CENSAR_DATA_URI,\n",
    ")\n",
    "viviendas_2010 = tipoviv_radios_prov(\n",
    "    year=2010,\n",
    "    prov=\"corrientes\",\n",
    "    var_types={\"link\": \"object\"},\n",
    "    root=CENSAR_DATA_URI,\n",
    ")\n",
    "viviendas_2010"
   ]
  },
  {
   "attachments": {},
   "cell_type": "markdown",
   "metadata": {},
   "source": [
    "# Importar radios"
   ]
  },
  {
   "cell_type": "code",
   "execution_count": null,
   "metadata": {},
   "outputs": [],
   "source": [
    "# FIXME: Reemplazar por funcion de CENSAr.datasources\n",
    "def radios_prov(year, prov, root=CENSAR_CARTO_URI, mask=None):\n",
    "    path = f\"{root}/radios_{year}_{prov}.zip\"\n",
    "    radios = gpd.read_file(path)\n",
    "\n",
    "    if mask is not None:\n",
    "        if mask.crs != radios.crs:\n",
    "            mask = mask.to_crs(radios.crs)\n",
    "        radios = radios.clip(mask)\n",
    "\n",
    "    radios.columns = [text_normalize(col) for col in radios.columns]\n",
    "    return radios\n",
    "\n",
    "\n",
    "# MASCARA (Esta mascara es provisioria. Lo correcto sería poder utilizar el límite vectorial del extent de la mancha urbana detectada en una imagen landsat-sentinel)\n",
    "path = \"/resources/data/radios_eph_json.zip\"\n",
    "mask = gpd.read_file(path)\n",
    "\n",
    "mask_wgs = mask[mask[\"eph_codagl\"].isin([\"12\"])].copy().to_crs(4326)\n",
    "mask_wgs[\"cons\"] = 0\n",
    "envolvente = mask_wgs.dissolve(by=\"cons\")\n",
    "\n",
    "radios_2001 = radios_prov(\n",
    "    year=2001,\n",
    "    prov=\"corrientes\",\n",
    "    mask=envolvente,\n",
    "    root=CENSAR_CARTO_URI,\n",
    ")\n",
    "radios_2010 = radios_prov(\n",
    "    year=2010,\n",
    "    prov=\"corrientes\",\n",
    "    mask=envolvente,\n",
    "    root=CENSAR_CARTO_URI,\n",
    ")\n",
    "radios_2010"
   ]
  },
  {
   "attachments": {},
   "cell_type": "markdown",
   "metadata": {},
   "source": [
    "# merge indicadores + radios"
   ]
  },
  {
   "cell_type": "code",
   "execution_count": null,
   "metadata": {},
   "outputs": [],
   "source": [
    "data_2001 = radios_2001.merge(viviendas_2001, on=\"link\")\n",
    "data_2010 = radios_2010.merge(viviendas_2010, on=\"link\")\n",
    "data_2001.plot(column=\"rancho\", legend=True)\n",
    "data_2010.plot(column=\"rancho\", legend=True)\n",
    "data_2010"
   ]
  },
  {
   "attachments": {},
   "cell_type": "markdown",
   "metadata": {},
   "source": [
    "# Agregacion de campos"
   ]
  },
  {
   "cell_type": "code",
   "execution_count": null,
   "metadata": {},
   "outputs": [],
   "source": [
    "from CENSAr.aggregation.core import aggregate\n",
    "\n",
    "schema = [\n",
    "    {\n",
    "        \"name\": \"Informal\",\n",
    "        \"columns\": [\"rancho\", \"casilla\", \"local no construido para habitacion\"],\n",
    "    },\n",
    "    {\n",
    "        \"name\": \"Formal\",\n",
    "        \"columns\": [\n",
    "            \"departamento\",\n",
    "            \"pieza en inquilinato\",\n",
    "            \"pieza en hotel o pension\",\n",
    "            \"vivienda movil\",\n",
    "        ],\n",
    "        \"regex\": [\"casa *\"],\n",
    "    },\n",
    "    {\n",
    "        \"name\": \"Situacion de calle\",\n",
    "        \"columns\": [\"en la calle\"],\n",
    "    },\n",
    "]\n",
    "\n",
    "tipo_vivienda_particular_2001 = aggregate(data_2001, schema)\n",
    "tipo_vivienda_particular_2010 = aggregate(data_2010, schema)"
   ]
  },
  {
   "cell_type": "code",
   "execution_count": null,
   "metadata": {},
   "outputs": [],
   "source": [
    "from CENSAr.aggregation import list_named_aggregations\n",
    "\n",
    "list_named_aggregations()"
   ]
  },
  {
   "cell_type": "code",
   "execution_count": null,
   "metadata": {},
   "outputs": [],
   "source": [
    "from CENSAr.aggregation import named_aggregation\n",
    "\n",
    "vulnerabilidad_2001 = named_aggregation(\n",
    "    tipo_vivienda_particular_2001, \"Vulnerabilidad Urbana\"\n",
    ")\n",
    "vulnerabilidad_2010 = named_aggregation(\n",
    "    tipo_vivienda_particular_2010, \"Vulnerabilidad Urbana\"\n",
    ")"
   ]
  },
  {
   "attachments": {},
   "cell_type": "markdown",
   "metadata": {},
   "source": [
    "# Plots"
   ]
  },
  {
   "cell_type": "code",
   "execution_count": null,
   "metadata": {},
   "outputs": [],
   "source": [
    "from CENSAr.plots import choropleth, compare_chropleths, compare_columns_chropleths\n",
    "\n",
    "fig = choropleth(vulnerabilidad_2001, \"No vulnerable\")\n",
    "fig.show()"
   ]
  },
  {
   "cell_type": "code",
   "execution_count": null,
   "metadata": {},
   "outputs": [],
   "source": [
    "compare_columns_chropleths(vulnerabilidad_2001, [\"Vulnerable\", \"No vulnerable\"]).show()"
   ]
  },
  {
   "cell_type": "code",
   "execution_count": null,
   "metadata": {},
   "outputs": [],
   "source": [
    "compare_chropleths(vulnerabilidad_2001, vulnerabilidad_2010, column=\"Vulnerable\").show()"
   ]
  }
 ],
 "metadata": {
  "kernelspec": {
   "display_name": "Python 3",
   "language": "python",
   "name": "python3"
  },
  "language_info": {
   "codemirror_mode": {
    "name": "ipython",
    "version": 3
   },
   "file_extension": ".py",
   "mimetype": "text/x-python",
   "name": "python",
   "nbconvert_exporter": "python",
   "pygments_lexer": "ipython3",
   "version": "3.10.6"
  },
  "orig_nbformat": 4
 },
 "nbformat": 4,
 "nbformat_minor": 2
}
