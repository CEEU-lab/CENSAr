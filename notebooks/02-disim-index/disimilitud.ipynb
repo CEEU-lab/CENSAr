{
 "cells": [
  {
   "cell_type": "code",
   "execution_count": 63,
   "metadata": {},
   "outputs": [],
   "source": [
    "import geopandas as gpd\n",
    "\n",
    "from CENSAr.aggregation import named_aggregation\n",
    "from CENSAr.datasources import (\n",
    "    personas_radios_prov,\n",
    "    tipoviv_radios_prov,\n",
    "    radios_prov,\n",
    "    radios_eph_censo_2010,\n",
    "    persproy_depto_2025,\n",
    ")\n",
    "from CENSAr.modeling_tools import (\n",
    "    simulate_total_var, \n",
    "    simulate_cat_var\n",
    ")\n",
    "from CENSAr.contexto_urbano import *\n",
    "from CENSAr.utils import *\n",
    "import warnings\n",
    "warnings.filterwarnings(\"ignore\")"
   ]
  },
  {
   "cell_type": "code",
   "execution_count": 66,
   "metadata": {},
   "outputs": [
    {
     "data": {
      "text/html": [
       "<pre style=\"white-space:pre;overflow-x:auto;line-height:normal;font-family:Menlo,'DejaVu Sans Mono',consolas,'Courier New',monospace\"><span style=\"color: #7fbfbf; text-decoration-color: #7fbfbf\">[11:05:26] </span><span style=\"color: #000080; text-decoration-color: #000080\">INFO    </span> <span style=\"color: #0000ff; text-decoration-color: #0000ff; text-decoration: underline\">https://storage.googleapis.com/python_mdg/censar_carto/radios_eph_json.zip</span>   <a href=\"file://D:\\JOB\\CEEU\\CENSAr\\CENSAr\\datasources.py\" target=\"_blank\"><span style=\"color: #7f7f7f; text-decoration-color: #7f7f7f\">datasources.py</span></a><span style=\"color: #7f7f7f; text-decoration-color: #7f7f7f\">:</span><a href=\"file://D:\\JOB\\CEEU\\CENSAr\\CENSAr\\datasources.py#103\" target=\"_blank\"><span style=\"color: #7f7f7f; text-decoration-color: #7f7f7f\">103</span></a>\n",
       "</pre>\n"
      ],
      "text/plain": [
       "\u001b[2;36m[11:05:26]\u001b[0m\u001b[2;36m \u001b[0m\u001b[34mINFO    \u001b[0m \u001b[4;94mhttps://storage.googleapis.com/python_mdg/censar_carto/radios_eph_json.zip\u001b[0m   \u001b]8;id=11425;file://D:\\JOB\\CEEU\\CENSAr\\CENSAr\\datasources.py\u001b\\\u001b[2mdatasources.py\u001b[0m\u001b]8;;\u001b\\\u001b[2m:\u001b[0m\u001b]8;id=989469;file://D:\\JOB\\CEEU\\CENSAr\\CENSAr\\datasources.py#103\u001b\\\u001b[2m103\u001b[0m\u001b]8;;\u001b\\\n"
      ]
     },
     "metadata": {},
     "output_type": "display_data"
    },
    {
     "data": {
      "text/html": [
       "<pre style=\"white-space:pre;overflow-x:auto;line-height:normal;font-family:Menlo,'DejaVu Sans Mono',consolas,'Courier New',monospace\"><span style=\"color: #7fbfbf; text-decoration-color: #7fbfbf\">[11:05:39] </span><span style=\"color: #000080; text-decoration-color: #000080\">INFO    </span> loading                                                                      <a href=\"file://D:\\JOB\\CEEU\\CENSAr\\CENSAr\\datasources.py\" target=\"_blank\"><span style=\"color: #7f7f7f; text-decoration-color: #7f7f7f\">datasources.py</span></a><span style=\"color: #7f7f7f; text-decoration-color: #7f7f7f\">:</span><a href=\"file://D:\\JOB\\CEEU\\CENSAr\\CENSAr\\datasources.py#112\" target=\"_blank\"><span style=\"color: #7f7f7f; text-decoration-color: #7f7f7f\">112</span></a>\n",
       "<span style=\"color: #7fbfbf; text-decoration-color: #7fbfbf\">           </span>         `<span style=\"color: #0000ff; text-decoration-color: #0000ff; text-decoration: underline\">https://storage.googleapis.com/python_mdg/censar_data/tipo_vivienda_radios_</span> <span style=\"color: #7f7f7f; text-decoration-color: #7f7f7f\">                  </span>\n",
       "<span style=\"color: #7fbfbf; text-decoration-color: #7fbfbf\">           </span>         <span style=\"color: #0000ff; text-decoration-color: #0000ff; text-decoration: underline\">chaco_2001.csv`</span>                                                              <span style=\"color: #7f7f7f; text-decoration-color: #7f7f7f\">                  </span>\n",
       "</pre>\n"
      ],
      "text/plain": [
       "\u001b[2;36m[11:05:39]\u001b[0m\u001b[2;36m \u001b[0m\u001b[34mINFO    \u001b[0m loading                                                                      \u001b]8;id=817855;file://D:\\JOB\\CEEU\\CENSAr\\CENSAr\\datasources.py\u001b\\\u001b[2mdatasources.py\u001b[0m\u001b]8;;\u001b\\\u001b[2m:\u001b[0m\u001b]8;id=899121;file://D:\\JOB\\CEEU\\CENSAr\\CENSAr\\datasources.py#112\u001b\\\u001b[2m112\u001b[0m\u001b]8;;\u001b\\\n",
       "\u001b[2;36m           \u001b[0m         `\u001b[4;94mhttps://storage.googleapis.com/python_mdg/censar_data/tipo_vivienda_radios_\u001b[0m \u001b[2m                  \u001b[0m\n",
       "\u001b[2;36m           \u001b[0m         \u001b[4;94mchaco_2001.csv`\u001b[0m                                                              \u001b[2m                  \u001b[0m\n"
      ]
     },
     "metadata": {},
     "output_type": "display_data"
    },
    {
     "data": {
      "text/html": [
       "<pre style=\"white-space:pre;overflow-x:auto;line-height:normal;font-family:Menlo,'DejaVu Sans Mono',consolas,'Courier New',monospace\"><span style=\"color: #7fbfbf; text-decoration-color: #7fbfbf\">           </span><span style=\"color: #000080; text-decoration-color: #000080\">INFO    </span> loading                                                                      <a href=\"file://D:\\JOB\\CEEU\\CENSAr\\CENSAr\\datasources.py\" target=\"_blank\"><span style=\"color: #7f7f7f; text-decoration-color: #7f7f7f\">datasources.py</span></a><span style=\"color: #7f7f7f; text-decoration-color: #7f7f7f\">:</span><a href=\"file://D:\\JOB\\CEEU\\CENSAr\\CENSAr\\datasources.py#112\" target=\"_blank\"><span style=\"color: #7f7f7f; text-decoration-color: #7f7f7f\">112</span></a>\n",
       "<span style=\"color: #7fbfbf; text-decoration-color: #7fbfbf\">           </span>         `<span style=\"color: #0000ff; text-decoration-color: #0000ff; text-decoration: underline\">https://storage.googleapis.com/python_mdg/censar_data/tipo_vivienda_radios_</span> <span style=\"color: #7f7f7f; text-decoration-color: #7f7f7f\">                  </span>\n",
       "<span style=\"color: #7fbfbf; text-decoration-color: #7fbfbf\">           </span>         <span style=\"color: #0000ff; text-decoration-color: #0000ff; text-decoration: underline\">chaco_2010.csv`</span>                                                              <span style=\"color: #7f7f7f; text-decoration-color: #7f7f7f\">                  </span>\n",
       "</pre>\n"
      ],
      "text/plain": [
       "\u001b[2;36m          \u001b[0m\u001b[2;36m \u001b[0m\u001b[34mINFO    \u001b[0m loading                                                                      \u001b]8;id=522067;file://D:\\JOB\\CEEU\\CENSAr\\CENSAr\\datasources.py\u001b\\\u001b[2mdatasources.py\u001b[0m\u001b]8;;\u001b\\\u001b[2m:\u001b[0m\u001b]8;id=739434;file://D:\\JOB\\CEEU\\CENSAr\\CENSAr\\datasources.py#112\u001b\\\u001b[2m112\u001b[0m\u001b]8;;\u001b\\\n",
       "\u001b[2;36m           \u001b[0m         `\u001b[4;94mhttps://storage.googleapis.com/python_mdg/censar_data/tipo_vivienda_radios_\u001b[0m \u001b[2m                  \u001b[0m\n",
       "\u001b[2;36m           \u001b[0m         \u001b[4;94mchaco_2010.csv`\u001b[0m                                                              \u001b[2m                  \u001b[0m\n"
      ]
     },
     "metadata": {},
     "output_type": "display_data"
    }
   ],
   "source": [
    "# GEOMETRIAS\n",
    "envolvente = radios_eph_censo_2010(aglo_idx=\"08\")\n",
    "chaco_2001 = radios_prov(year=2001, prov=\"chaco\", mask=envolvente)\n",
    "chaco_2010 = radios_prov(year=2010, prov=\"chaco\", mask=envolvente)\n",
    "\n",
    "# TABLAS REDATAM - HOGARES/VIVIENDAS\n",
    "tipo_2001 = tipoviv_radios_prov(\n",
    "    year=2001,\n",
    "    prov=\"chaco\",\n",
    "    var_types={\"link\": \"object\"},\n",
    ")\n",
    "tipo_2001_geo = chaco_2001.set_index(\"link\").join(tipo_2001.set_index(\"link\"))\n",
    "tipo_2010 = tipoviv_radios_prov(\n",
    "    year=2010,\n",
    "    prov=\"chaco\",\n",
    "    var_types={\"link\": \"object\"},\n",
    ")\n",
    "tipo_2010_geo = chaco_2010.set_index(\"link\").join(tipo_2010.set_index(\"link\"))"
   ]
  },
  {
   "cell_type": "code",
   "execution_count": 13,
   "metadata": {},
   "outputs": [
    {
     "data": {
      "text/html": [
       "<pre style=\"white-space:pre;overflow-x:auto;line-height:normal;font-family:Menlo,'DejaVu Sans Mono',consolas,'Courier New',monospace\"><span style=\"color: #7fbfbf; text-decoration-color: #7fbfbf\">[15:24:19] </span><span style=\"color: #000080; text-decoration-color: #000080\">INFO    </span> Applying named aggregation `tipo vivienda particular`                                <a href=\"file://D:\\JOB\\CEEU\\CENSAr\\CENSAr\\aggregation\\core.py\" target=\"_blank\"><span style=\"color: #7f7f7f; text-decoration-color: #7f7f7f\">core.py</span></a><span style=\"color: #7f7f7f; text-decoration-color: #7f7f7f\">:</span><a href=\"file://D:\\JOB\\CEEU\\CENSAr\\CENSAr\\aggregation\\core.py#67\" target=\"_blank\"><span style=\"color: #7f7f7f; text-decoration-color: #7f7f7f\">67</span></a>\n",
       "</pre>\n"
      ],
      "text/plain": [
       "\u001b[2;36m[15:24:19]\u001b[0m\u001b[2;36m \u001b[0m\u001b[34mINFO    \u001b[0m Applying named aggregation `tipo vivienda particular`                                \u001b]8;id=807179;file://D:\\JOB\\CEEU\\CENSAr\\CENSAr\\aggregation\\core.py\u001b\\\u001b[2mcore.py\u001b[0m\u001b]8;;\u001b\\\u001b[2m:\u001b[0m\u001b]8;id=429001;file://D:\\JOB\\CEEU\\CENSAr\\CENSAr\\aggregation\\core.py#67\u001b\\\u001b[2m67\u001b[0m\u001b]8;;\u001b\\\n"
      ]
     },
     "metadata": {},
     "output_type": "display_data"
    },
    {
     "data": {
      "text/html": [
       "<pre style=\"white-space:pre;overflow-x:auto;line-height:normal;font-family:Menlo,'DejaVu Sans Mono',consolas,'Courier New',monospace\"><span style=\"color: #7fbfbf; text-decoration-color: #7fbfbf\">           </span><span style=\"color: #800000; text-decoration-color: #800000\">WARNING </span> Extra columns found for mapping situacion de calle: <span style=\"font-weight: bold\">{</span><span style=\"color: #008000; text-decoration-color: #008000\">'persona viviendo en la </span>       <a href=\"file://D:\\JOB\\CEEU\\CENSAr\\CENSAr\\aggregation\\core.py\" target=\"_blank\"><span style=\"color: #7f7f7f; text-decoration-color: #7f7f7f\">core.py</span></a><span style=\"color: #7f7f7f; text-decoration-color: #7f7f7f\">:</span><a href=\"file://D:\\JOB\\CEEU\\CENSAr\\CENSAr\\aggregation\\core.py#123\" target=\"_blank\"><span style=\"color: #7f7f7f; text-decoration-color: #7f7f7f\">123</span></a>\n",
       "<span style=\"color: #7fbfbf; text-decoration-color: #7fbfbf\">           </span>         <span style=\"color: #008000; text-decoration-color: #008000\">calle'</span><span style=\"font-weight: bold\">}</span>. Extra columns will be ignored.                                             <span style=\"color: #7f7f7f; text-decoration-color: #7f7f7f\">           </span>\n",
       "</pre>\n"
      ],
      "text/plain": [
       "\u001b[2;36m          \u001b[0m\u001b[2;36m \u001b[0m\u001b[31mWARNING \u001b[0m Extra columns found for mapping situacion de calle: \u001b[1m{\u001b[0m\u001b[32m'persona viviendo en la \u001b[0m       \u001b]8;id=44957;file://D:\\JOB\\CEEU\\CENSAr\\CENSAr\\aggregation\\core.py\u001b\\\u001b[2mcore.py\u001b[0m\u001b]8;;\u001b\\\u001b[2m:\u001b[0m\u001b]8;id=916456;file://D:\\JOB\\CEEU\\CENSAr\\CENSAr\\aggregation\\core.py#123\u001b\\\u001b[2m123\u001b[0m\u001b]8;;\u001b\\\n",
       "\u001b[2;36m           \u001b[0m         \u001b[32mcalle'\u001b[0m\u001b[1m}\u001b[0m. Extra columns will be ignored.                                             \u001b[2m           \u001b[0m\n"
      ]
     },
     "metadata": {},
     "output_type": "display_data"
    },
    {
     "data": {
      "text/html": [
       "<pre style=\"white-space:pre;overflow-x:auto;line-height:normal;font-family:Menlo,'DejaVu Sans Mono',consolas,'Courier New',monospace\"><span style=\"color: #7fbfbf; text-decoration-color: #7fbfbf\">           </span><span style=\"color: #000080; text-decoration-color: #000080\">INFO    </span> Applying named aggregation `tipo vivienda particular`                                <a href=\"file://D:\\JOB\\CEEU\\CENSAr\\CENSAr\\aggregation\\core.py\" target=\"_blank\"><span style=\"color: #7f7f7f; text-decoration-color: #7f7f7f\">core.py</span></a><span style=\"color: #7f7f7f; text-decoration-color: #7f7f7f\">:</span><a href=\"file://D:\\JOB\\CEEU\\CENSAr\\CENSAr\\aggregation\\core.py#67\" target=\"_blank\"><span style=\"color: #7f7f7f; text-decoration-color: #7f7f7f\">67</span></a>\n",
       "</pre>\n"
      ],
      "text/plain": [
       "\u001b[2;36m          \u001b[0m\u001b[2;36m \u001b[0m\u001b[34mINFO    \u001b[0m Applying named aggregation `tipo vivienda particular`                                \u001b]8;id=778667;file://D:\\JOB\\CEEU\\CENSAr\\CENSAr\\aggregation\\core.py\u001b\\\u001b[2mcore.py\u001b[0m\u001b]8;;\u001b\\\u001b[2m:\u001b[0m\u001b]8;id=500437;file://D:\\JOB\\CEEU\\CENSAr\\CENSAr\\aggregation\\core.py#67\u001b\\\u001b[2m67\u001b[0m\u001b]8;;\u001b\\\n"
      ]
     },
     "metadata": {},
     "output_type": "display_data"
    },
    {
     "data": {
      "text/html": [
       "<pre style=\"white-space:pre;overflow-x:auto;line-height:normal;font-family:Menlo,'DejaVu Sans Mono',consolas,'Courier New',monospace\"><span style=\"color: #7fbfbf; text-decoration-color: #7fbfbf\">           </span><span style=\"color: #800000; text-decoration-color: #800000\">WARNING </span> Extra columns found for mapping formal: <span style=\"font-weight: bold\">{</span><span style=\"color: #008000; text-decoration-color: #008000\">'casa b'</span>, <span style=\"color: #008000; text-decoration-color: #008000\">'casa a'</span><span style=\"font-weight: bold\">}</span>. Extra columns will be <a href=\"file://D:\\JOB\\CEEU\\CENSAr\\CENSAr\\aggregation\\core.py\" target=\"_blank\"><span style=\"color: #7f7f7f; text-decoration-color: #7f7f7f\">core.py</span></a><span style=\"color: #7f7f7f; text-decoration-color: #7f7f7f\">:</span><a href=\"file://D:\\JOB\\CEEU\\CENSAr\\CENSAr\\aggregation\\core.py#123\" target=\"_blank\"><span style=\"color: #7f7f7f; text-decoration-color: #7f7f7f\">123</span></a>\n",
       "<span style=\"color: #7fbfbf; text-decoration-color: #7fbfbf\">           </span>         ignored.                                                                            <span style=\"color: #7f7f7f; text-decoration-color: #7f7f7f\">           </span>\n",
       "</pre>\n"
      ],
      "text/plain": [
       "\u001b[2;36m          \u001b[0m\u001b[2;36m \u001b[0m\u001b[31mWARNING \u001b[0m Extra columns found for mapping formal: \u001b[1m{\u001b[0m\u001b[32m'casa b'\u001b[0m, \u001b[32m'casa a'\u001b[0m\u001b[1m}\u001b[0m. Extra columns will be \u001b]8;id=904904;file://D:\\JOB\\CEEU\\CENSAr\\CENSAr\\aggregation\\core.py\u001b\\\u001b[2mcore.py\u001b[0m\u001b]8;;\u001b\\\u001b[2m:\u001b[0m\u001b]8;id=913794;file://D:\\JOB\\CEEU\\CENSAr\\CENSAr\\aggregation\\core.py#123\u001b\\\u001b[2m123\u001b[0m\u001b]8;;\u001b\\\n",
       "\u001b[2;36m           \u001b[0m         ignored.                                                                            \u001b[2m           \u001b[0m\n"
      ]
     },
     "metadata": {},
     "output_type": "display_data"
    },
    {
     "data": {
      "text/html": [
       "<pre style=\"white-space:pre;overflow-x:auto;line-height:normal;font-family:Menlo,'DejaVu Sans Mono',consolas,'Courier New',monospace\"><span style=\"color: #7fbfbf; text-decoration-color: #7fbfbf\">           </span><span style=\"color: #800000; text-decoration-color: #800000\">WARNING </span> Extra columns found for mapping situacion de calle: <span style=\"font-weight: bold\">{</span><span style=\"color: #008000; text-decoration-color: #008000\">'persona viviendo en la </span>       <a href=\"file://D:\\JOB\\CEEU\\CENSAr\\CENSAr\\aggregation\\core.py\" target=\"_blank\"><span style=\"color: #7f7f7f; text-decoration-color: #7f7f7f\">core.py</span></a><span style=\"color: #7f7f7f; text-decoration-color: #7f7f7f\">:</span><a href=\"file://D:\\JOB\\CEEU\\CENSAr\\CENSAr\\aggregation\\core.py#123\" target=\"_blank\"><span style=\"color: #7f7f7f; text-decoration-color: #7f7f7f\">123</span></a>\n",
       "<span style=\"color: #7fbfbf; text-decoration-color: #7fbfbf\">           </span>         <span style=\"color: #008000; text-decoration-color: #008000\">calle'</span><span style=\"font-weight: bold\">}</span>. Extra columns will be ignored.                                             <span style=\"color: #7f7f7f; text-decoration-color: #7f7f7f\">           </span>\n",
       "</pre>\n"
      ],
      "text/plain": [
       "\u001b[2;36m          \u001b[0m\u001b[2;36m \u001b[0m\u001b[31mWARNING \u001b[0m Extra columns found for mapping situacion de calle: \u001b[1m{\u001b[0m\u001b[32m'persona viviendo en la \u001b[0m       \u001b]8;id=677755;file://D:\\JOB\\CEEU\\CENSAr\\CENSAr\\aggregation\\core.py\u001b\\\u001b[2mcore.py\u001b[0m\u001b]8;;\u001b\\\u001b[2m:\u001b[0m\u001b]8;id=740625;file://D:\\JOB\\CEEU\\CENSAr\\CENSAr\\aggregation\\core.py#123\u001b\\\u001b[2m123\u001b[0m\u001b]8;;\u001b\\\n",
       "\u001b[2;36m           \u001b[0m         \u001b[32mcalle'\u001b[0m\u001b[1m}\u001b[0m. Extra columns will be ignored.                                             \u001b[2m           \u001b[0m\n"
      ]
     },
     "metadata": {},
     "output_type": "display_data"
    }
   ],
   "source": [
    "tipo_vivienda_agg_2001 = named_aggregation(\n",
    "    tipo_2001_geo, name=\"tipo vivienda particular\"\n",
    ")\n",
    "tipo_vivienda_agg_2010 = named_aggregation(\n",
    "    tipo_2010_geo, name=\"tipo vivienda particular\"\n",
    ") "
   ]
  },
  {
   "cell_type": "code",
   "execution_count": 19,
   "metadata": {},
   "outputs": [],
   "source": [
    "informal_simulated_distribution = simulate_cat_var(\n",
    "    gdf_var_01=tipo_vivienda_agg_2001,\n",
    "    gdf_var_10=tipo_vivienda_agg_2010,\n",
    "    base_year=\"0110\",\n",
    "    forecast_year=\"2020\",\n",
    "    forecast_gdf=tipo_vivienda_agg_2010,\n",
    "    pct_val=1.5,\n",
    "    catname={\"2001\": \"informal\", \"2010\": \"informal\"},\n",
    "    tot_colname=\"total\"\n",
    ")\n",
    "\n",
    "tipo_vivienda_agg_2010[\"cat_sim_2020\"] = tipo_vivienda_agg_2010.index.map(informal_simulated_distribution)\n",
    "tipo_vivienda_agg_2010[\"informal_2020\"] = tipo_vivienda_agg_2010[\"informal\"] + tipo_vivienda_agg_2010[\"cat_sim_2020\"]"
   ]
  },
  {
   "attachments": {},
   "cell_type": "markdown",
   "metadata": {},
   "source": [
    "# Asignar polígonos"
   ]
  },
  {
   "cell_type": "code",
   "execution_count": 235,
   "metadata": {},
   "outputs": [
    {
     "data": {
      "text/html": [
       "<div>\n",
       "<style scoped>\n",
       "    .dataframe tbody tr th:only-of-type {\n",
       "        vertical-align: middle;\n",
       "    }\n",
       "\n",
       "    .dataframe tbody tr th {\n",
       "        vertical-align: top;\n",
       "    }\n",
       "\n",
       "    .dataframe thead th {\n",
       "        text-align: right;\n",
       "    }\n",
       "</style>\n",
       "<table border=\"1\" class=\"dataframe\">\n",
       "  <thead>\n",
       "    <tr style=\"text-align: right;\">\n",
       "      <th></th>\n",
       "      <th>link</th>\n",
       "      <th>geometry</th>\n",
       "      <th>total</th>\n",
       "      <th>formal</th>\n",
       "      <th>informal</th>\n",
       "      <th>situacion de calle</th>\n",
       "      <th>cat_sim_2020</th>\n",
       "      <th>informal_2020</th>\n",
       "    </tr>\n",
       "  </thead>\n",
       "  <tbody>\n",
       "    <tr>\n",
       "      <th>0</th>\n",
       "      <td>221402105</td>\n",
       "      <td>POLYGON ((-58.94747 -27.51435, -58.94728 -27.5...</td>\n",
       "      <td>385</td>\n",
       "      <td>364</td>\n",
       "      <td>21</td>\n",
       "      <td>0</td>\n",
       "      <td>12.0</td>\n",
       "      <td>33.0</td>\n",
       "    </tr>\n",
       "    <tr>\n",
       "      <th>1</th>\n",
       "      <td>221402106</td>\n",
       "      <td>POLYGON ((-58.94180 -27.51231, -58.94176 -27.5...</td>\n",
       "      <td>491</td>\n",
       "      <td>473</td>\n",
       "      <td>18</td>\n",
       "      <td>0</td>\n",
       "      <td>16.0</td>\n",
       "      <td>34.0</td>\n",
       "    </tr>\n",
       "    <tr>\n",
       "      <th>2</th>\n",
       "      <td>221402102</td>\n",
       "      <td>POLYGON ((-58.94171 -27.51378, -58.94176 -27.5...</td>\n",
       "      <td>262</td>\n",
       "      <td>261</td>\n",
       "      <td>1</td>\n",
       "      <td>0</td>\n",
       "      <td>6.0</td>\n",
       "      <td>7.0</td>\n",
       "    </tr>\n",
       "    <tr>\n",
       "      <th>3</th>\n",
       "      <td>221402807</td>\n",
       "      <td>POLYGON ((-58.95469 -27.50759, -58.95327 -27.5...</td>\n",
       "      <td>137</td>\n",
       "      <td>136</td>\n",
       "      <td>1</td>\n",
       "      <td>0</td>\n",
       "      <td>3.0</td>\n",
       "      <td>4.0</td>\n",
       "    </tr>\n",
       "    <tr>\n",
       "      <th>4</th>\n",
       "      <td>221402101</td>\n",
       "      <td>POLYGON ((-58.93704 -27.50790, -58.93715 -27.5...</td>\n",
       "      <td>303</td>\n",
       "      <td>303</td>\n",
       "      <td>0</td>\n",
       "      <td>0</td>\n",
       "      <td>0.0</td>\n",
       "      <td>0.0</td>\n",
       "    </tr>\n",
       "  </tbody>\n",
       "</table>\n",
       "</div>"
      ],
      "text/plain": [
       "        link                                           geometry  total  \\\n",
       "0  221402105  POLYGON ((-58.94747 -27.51435, -58.94728 -27.5...    385   \n",
       "1  221402106  POLYGON ((-58.94180 -27.51231, -58.94176 -27.5...    491   \n",
       "2  221402102  POLYGON ((-58.94171 -27.51378, -58.94176 -27.5...    262   \n",
       "3  221402807  POLYGON ((-58.95469 -27.50759, -58.95327 -27.5...    137   \n",
       "4  221402101  POLYGON ((-58.93704 -27.50790, -58.93715 -27.5...    303   \n",
       "\n",
       "   formal  informal  situacion de calle  cat_sim_2020  informal_2020  \n",
       "0     364        21                   0          12.0           33.0  \n",
       "1     473        18                   0          16.0           34.0  \n",
       "2     261         1                   0           6.0            7.0  \n",
       "3     136         1                   0           3.0            4.0  \n",
       "4     303         0                   0           0.0            0.0  "
      ]
     },
     "execution_count": 235,
     "metadata": {},
     "output_type": "execute_result"
    }
   ],
   "source": [
    "zona_inf = tipo_vivienda_agg_2010.copy()\n",
    "zona_inf.reset_index(inplace=True)\n",
    "zona_inf.head()"
   ]
  },
  {
   "cell_type": "code",
   "execution_count": 136,
   "metadata": {},
   "outputs": [
    {
     "data": {
      "text/html": [
       "<div>\n",
       "<style scoped>\n",
       "    .dataframe tbody tr th:only-of-type {\n",
       "        vertical-align: middle;\n",
       "    }\n",
       "\n",
       "    .dataframe tbody tr th {\n",
       "        vertical-align: top;\n",
       "    }\n",
       "\n",
       "    .dataframe thead th {\n",
       "        text-align: right;\n",
       "    }\n",
       "</style>\n",
       "<table border=\"1\" class=\"dataframe\">\n",
       "  <thead>\n",
       "    <tr style=\"text-align: right;\">\n",
       "      <th></th>\n",
       "      <th>id</th>\n",
       "      <th>grupo</th>\n",
       "      <th>geometry</th>\n",
       "    </tr>\n",
       "  </thead>\n",
       "  <tbody>\n",
       "    <tr>\n",
       "      <th>0</th>\n",
       "      <td>12</td>\n",
       "      <td>a</td>\n",
       "      <td>MULTIPOLYGON (((-59.02214 -27.44504, -59.02214...</td>\n",
       "    </tr>\n",
       "    <tr>\n",
       "      <th>1</th>\n",
       "      <td>2</td>\n",
       "      <td>b</td>\n",
       "      <td>MULTIPOLYGON (((-59.07446 -27.46655, -59.07446...</td>\n",
       "    </tr>\n",
       "    <tr>\n",
       "      <th>2</th>\n",
       "      <td>1</td>\n",
       "      <td>c</td>\n",
       "      <td>MULTIPOLYGON (((-58.97279 -27.47111, -58.97279...</td>\n",
       "    </tr>\n",
       "    <tr>\n",
       "      <th>3</th>\n",
       "      <td>20</td>\n",
       "      <td>d</td>\n",
       "      <td>MULTIPOLYGON (((-59.04312 -27.39748, -59.04311...</td>\n",
       "    </tr>\n",
       "    <tr>\n",
       "      <th>4</th>\n",
       "      <td>27</td>\n",
       "      <td>e</td>\n",
       "      <td>MULTIPOLYGON (((-59.06636 -27.41843, -59.06635...</td>\n",
       "    </tr>\n",
       "  </tbody>\n",
       "</table>\n",
       "</div>"
      ],
      "text/plain": [
       "   id grupo                                           geometry\n",
       "0  12     a  MULTIPOLYGON (((-59.02214 -27.44504, -59.02214...\n",
       "1   2     b  MULTIPOLYGON (((-59.07446 -27.46655, -59.07446...\n",
       "2   1     c  MULTIPOLYGON (((-58.97279 -27.47111, -58.97279...\n",
       "3  20     d  MULTIPOLYGON (((-59.04312 -27.39748, -59.04311...\n",
       "4  27     e  MULTIPOLYGON (((-59.06636 -27.41843, -59.06635..."
      ]
     },
     "execution_count": 136,
     "metadata": {},
     "output_type": "execute_result"
    }
   ],
   "source": [
    "zona_sup = gpd.read_file(\"../Data_generada/zonas_resistencia.geojson\")\n",
    "# zona_sup = gpd.read_file(\"../Data_generada/barrios.shp\")\n",
    "zona_sup.rename(columns={'id':'barrio'})\n",
    "campo_superior = 'grupo' # barrio o grupo\n",
    "zona_sup.head()"
   ]
  },
  {
   "cell_type": "code",
   "execution_count": 137,
   "metadata": {},
   "outputs": [
    {
     "name": "stdout",
     "output_type": "stream",
     "text": [
      "436\n",
      "537\n",
      "430\n",
      "430\n"
     ]
    },
    {
     "data": {
      "text/html": [
       "<div>\n",
       "<style scoped>\n",
       "    .dataframe tbody tr th:only-of-type {\n",
       "        vertical-align: middle;\n",
       "    }\n",
       "\n",
       "    .dataframe tbody tr th {\n",
       "        vertical-align: top;\n",
       "    }\n",
       "\n",
       "    .dataframe thead th {\n",
       "        text-align: right;\n",
       "    }\n",
       "</style>\n",
       "<table border=\"1\" class=\"dataframe\">\n",
       "  <thead>\n",
       "    <tr style=\"text-align: right;\">\n",
       "      <th></th>\n",
       "      <th>link</th>\n",
       "      <th>geometry</th>\n",
       "      <th>total</th>\n",
       "      <th>formal</th>\n",
       "      <th>informal</th>\n",
       "      <th>situacion de calle</th>\n",
       "      <th>cat_sim_2020</th>\n",
       "      <th>informal_2020</th>\n",
       "      <th>area_tot</th>\n",
       "      <th>id</th>\n",
       "      <th>grupo</th>\n",
       "    </tr>\n",
       "  </thead>\n",
       "  <tbody>\n",
       "    <tr>\n",
       "      <th>0</th>\n",
       "      <td>221402105</td>\n",
       "      <td>POLYGON ((-58.94747 -27.51435, -58.94728 -27.5...</td>\n",
       "      <td>385</td>\n",
       "      <td>364</td>\n",
       "      <td>21</td>\n",
       "      <td>0</td>\n",
       "      <td>12.0</td>\n",
       "      <td>33.0</td>\n",
       "      <td>0.000030</td>\n",
       "      <td>1</td>\n",
       "      <td>c</td>\n",
       "    </tr>\n",
       "    <tr>\n",
       "      <th>1</th>\n",
       "      <td>221402106</td>\n",
       "      <td>POLYGON ((-58.94180 -27.51231, -58.94176 -27.5...</td>\n",
       "      <td>491</td>\n",
       "      <td>473</td>\n",
       "      <td>18</td>\n",
       "      <td>0</td>\n",
       "      <td>16.0</td>\n",
       "      <td>34.0</td>\n",
       "      <td>0.000153</td>\n",
       "      <td>1</td>\n",
       "      <td>c</td>\n",
       "    </tr>\n",
       "  </tbody>\n",
       "</table>\n",
       "</div>"
      ],
      "text/plain": [
       "        link                                           geometry  total  \\\n",
       "0  221402105  POLYGON ((-58.94747 -27.51435, -58.94728 -27.5...    385   \n",
       "1  221402106  POLYGON ((-58.94180 -27.51231, -58.94176 -27.5...    491   \n",
       "\n",
       "   formal  informal  situacion de calle  cat_sim_2020  informal_2020  \\\n",
       "0     364        21                   0          12.0           33.0   \n",
       "1     473        18                   0          16.0           34.0   \n",
       "\n",
       "   area_tot  id grupo  \n",
       "0  0.000030   1     c  \n",
       "1  0.000153   1     c  "
      ]
     },
     "execution_count": 137,
     "metadata": {},
     "output_type": "execute_result"
    }
   ],
   "source": [
    "zona_inf['area_tot'] = zona_inf.area\n",
    "zonas_inter = gpd.overlay(zona_sup, zona_inf, how='intersection')\n",
    "\n",
    "zonas_inter['area_par'] = zonas_inter.area\n",
    "zonas_inter['area_porc'] = round(zonas_inter['area_par'] / zonas_inter['area_tot'], 3)\n",
    "zonas_inter = zonas_inter.sort_values(by='area_porc', ascending=False).reset_index(drop=True)\n",
    "zonas_inter.drop_duplicates(subset='link', keep='first', inplace=True)\n",
    "\n",
    "zonas_inter.drop(columns=['area_par', 'area_tot', 'area_porc'], inplace=True)\n",
    "zonas_inter = zona_inf.merge(zonas_inter[['link', 'barrio', 'grupo']], on='link')\n",
    "zonas_inter.head(2)"
   ]
  },
  {
   "cell_type": "code",
   "execution_count": 138,
   "metadata": {},
   "outputs": [
    {
     "data": {
      "text/html": [
       "<div>\n",
       "<style scoped>\n",
       "    .dataframe tbody tr th:only-of-type {\n",
       "        vertical-align: middle;\n",
       "    }\n",
       "\n",
       "    .dataframe tbody tr th {\n",
       "        vertical-align: top;\n",
       "    }\n",
       "\n",
       "    .dataframe thead th {\n",
       "        text-align: right;\n",
       "    }\n",
       "</style>\n",
       "<table border=\"1\" class=\"dataframe\">\n",
       "  <thead>\n",
       "    <tr style=\"text-align: right;\">\n",
       "      <th></th>\n",
       "      <th>link</th>\n",
       "      <th>geometry</th>\n",
       "      <th>total</th>\n",
       "      <th>formal</th>\n",
       "      <th>informal</th>\n",
       "      <th>situacion de calle</th>\n",
       "      <th>cat_sim_2020</th>\n",
       "      <th>informal_2020</th>\n",
       "      <th>area_tot</th>\n",
       "      <th>id</th>\n",
       "      <th>grupo</th>\n",
       "      <th>sup_total</th>\n",
       "      <th>sup_formal</th>\n",
       "      <th>sup_informal</th>\n",
       "    </tr>\n",
       "  </thead>\n",
       "  <tbody>\n",
       "    <tr>\n",
       "      <th>0</th>\n",
       "      <td>221402105</td>\n",
       "      <td>POLYGON ((-58.94747 -27.51435, -58.94728 -27.5...</td>\n",
       "      <td>385</td>\n",
       "      <td>364</td>\n",
       "      <td>21</td>\n",
       "      <td>0</td>\n",
       "      <td>12.0</td>\n",
       "      <td>33.0</td>\n",
       "      <td>0.000030</td>\n",
       "      <td>1</td>\n",
       "      <td>c</td>\n",
       "      <td>18150</td>\n",
       "      <td>17474</td>\n",
       "      <td>675</td>\n",
       "    </tr>\n",
       "    <tr>\n",
       "      <th>1</th>\n",
       "      <td>221402106</td>\n",
       "      <td>POLYGON ((-58.94180 -27.51231, -58.94176 -27.5...</td>\n",
       "      <td>491</td>\n",
       "      <td>473</td>\n",
       "      <td>18</td>\n",
       "      <td>0</td>\n",
       "      <td>16.0</td>\n",
       "      <td>34.0</td>\n",
       "      <td>0.000153</td>\n",
       "      <td>1</td>\n",
       "      <td>c</td>\n",
       "      <td>18150</td>\n",
       "      <td>17474</td>\n",
       "      <td>675</td>\n",
       "    </tr>\n",
       "    <tr>\n",
       "      <th>2</th>\n",
       "      <td>221402102</td>\n",
       "      <td>POLYGON ((-58.94171 -27.51378, -58.94176 -27.5...</td>\n",
       "      <td>262</td>\n",
       "      <td>261</td>\n",
       "      <td>1</td>\n",
       "      <td>0</td>\n",
       "      <td>6.0</td>\n",
       "      <td>7.0</td>\n",
       "      <td>0.000010</td>\n",
       "      <td>1</td>\n",
       "      <td>c</td>\n",
       "      <td>18150</td>\n",
       "      <td>17474</td>\n",
       "      <td>675</td>\n",
       "    </tr>\n",
       "    <tr>\n",
       "      <th>3</th>\n",
       "      <td>221402101</td>\n",
       "      <td>POLYGON ((-58.93704 -27.50790, -58.93715 -27.5...</td>\n",
       "      <td>303</td>\n",
       "      <td>303</td>\n",
       "      <td>0</td>\n",
       "      <td>0</td>\n",
       "      <td>0.0</td>\n",
       "      <td>0.0</td>\n",
       "      <td>0.000017</td>\n",
       "      <td>1</td>\n",
       "      <td>c</td>\n",
       "      <td>18150</td>\n",
       "      <td>17474</td>\n",
       "      <td>675</td>\n",
       "    </tr>\n",
       "    <tr>\n",
       "      <th>4</th>\n",
       "      <td>221402109</td>\n",
       "      <td>MULTIPOLYGON (((-58.95328 -27.51955, -58.95317...</td>\n",
       "      <td>44</td>\n",
       "      <td>22</td>\n",
       "      <td>22</td>\n",
       "      <td>0</td>\n",
       "      <td>0.0</td>\n",
       "      <td>22.0</td>\n",
       "      <td>0.000007</td>\n",
       "      <td>1</td>\n",
       "      <td>c</td>\n",
       "      <td>18150</td>\n",
       "      <td>17474</td>\n",
       "      <td>675</td>\n",
       "    </tr>\n",
       "  </tbody>\n",
       "</table>\n",
       "</div>"
      ],
      "text/plain": [
       "        link                                           geometry  total  \\\n",
       "0  221402105  POLYGON ((-58.94747 -27.51435, -58.94728 -27.5...    385   \n",
       "1  221402106  POLYGON ((-58.94180 -27.51231, -58.94176 -27.5...    491   \n",
       "2  221402102  POLYGON ((-58.94171 -27.51378, -58.94176 -27.5...    262   \n",
       "3  221402101  POLYGON ((-58.93704 -27.50790, -58.93715 -27.5...    303   \n",
       "4  221402109  MULTIPOLYGON (((-58.95328 -27.51955, -58.95317...     44   \n",
       "\n",
       "   formal  informal  situacion de calle  cat_sim_2020  informal_2020  \\\n",
       "0     364        21                   0          12.0           33.0   \n",
       "1     473        18                   0          16.0           34.0   \n",
       "2     261         1                   0           6.0            7.0   \n",
       "3     303         0                   0           0.0            0.0   \n",
       "4      22        22                   0           0.0           22.0   \n",
       "\n",
       "   area_tot  id grupo  sup_total  sup_formal  sup_informal  \n",
       "0  0.000030   1     c      18150       17474           675  \n",
       "1  0.000153   1     c      18150       17474           675  \n",
       "2  0.000010   1     c      18150       17474           675  \n",
       "3  0.000017   1     c      18150       17474           675  \n",
       "4  0.000007   1     c      18150       17474           675  "
      ]
     },
     "execution_count": 138,
     "metadata": {},
     "output_type": "execute_result"
    }
   ],
   "source": [
    "area_sup_tot = zonas_inter.groupby(campo_superior)[['total', 'formal', 'informal']].sum().reset_index()\n",
    "area_sup_tot.rename(columns={'total':'sup_total', 'formal':'sup_formal', 'informal':'sup_informal'}, inplace=True)\n",
    "zonas_inter = zonas_inter.merge(area_sup_tot, on=campo_superior)\n",
    "zonas_inter.head()"
   ]
  },
  {
   "cell_type": "code",
   "execution_count": 139,
   "metadata": {},
   "outputs": [
    {
     "name": "stdout",
     "output_type": "stream",
     "text": [
      "c ==> 0.468\n",
      "b ==> 0.691\n",
      "a ==> 0.544\n",
      "d ==> 0.543\n",
      "e ==> 0.538\n"
     ]
    }
   ],
   "source": [
    "lista_disimilitud_indice = list()\n",
    "for g in list(zonas_inter[campo_superior].unique()):\n",
    "    zonas_inter_grupo = zonas_inter.loc[zonas_inter[campo_superior] == g]\n",
    "    grupo_formal = zonas_inter_grupo['formal'] / zonas_inter_grupo['sup_formal']\n",
    "    grupo_informal = zonas_inter_grupo['informal'] / zonas_inter_grupo['sup_informal']\n",
    "    \n",
    "    disimilitud_indice = round((abs(grupo_formal - grupo_informal).sum()) * 0.5, 3)\n",
    "    lista_disimilitud_indice.append([g, disimilitud_indice])\n",
    "    print(g, \"==>\", disimilitud_indice)"
   ]
  },
  {
   "cell_type": "code",
   "execution_count": 140,
   "metadata": {},
   "outputs": [],
   "source": [
    "zona_sup_indce = zona_sup.merge(pd.DataFrame(lista_disimilitud_indice, columns=[campo_superior, 'indice']), on=campo_superior)\n",
    "zona_sup_indce.to_file(\"../Data_generada/zonas_resistencia_\"+campo_superior+\".geojson\")"
   ]
  },
  {
   "attachments": {},
   "cell_type": "markdown",
   "metadata": {},
   "source": [
    "# Por buffer con los vecinos"
   ]
  },
  {
   "cell_type": "code",
   "execution_count": 246,
   "metadata": {},
   "outputs": [],
   "source": [
    "zona_inf['indice'] = -1\n",
    "zona_inf['indice_count'] = 0\n",
    "zona_inf['area_tot'] = zona_inf.area\n",
    "\n",
    "for b in [[0.003, \"3\"], [0.005, '5'], [0.007, \"7\"],  [0.009, '9']]:\n",
    "    for r in range(len(zona_inf)):\n",
    "        zona_inf_test = zona_inf.loc[[r]]\n",
    "        zona_inf_buffer = zona_inf_test[['geometry']].copy()\n",
    "        zona_inf_buffer.geometry = zona_inf_test.buffer(b[0])\n",
    "\n",
    "        zonas_inter_buffer = gpd.overlay(zona_inf_buffer, zona_inf, how='intersection')\n",
    "        zonas_inter_buffer['area_par'] = zonas_inter_buffer.area\n",
    "        zonas_inter_buffer['area_porc'] = round(zonas_inter_buffer['area_par'] / zonas_inter_buffer['area_tot'], 3)\n",
    "        zonas_inter_buffer = zonas_inter_buffer.loc[zonas_inter_buffer.area_porc > 0.30]\n",
    "\n",
    "        if len(zonas_inter_buffer) > 1:\n",
    "            zonas_inter_buffer['formal_tot'] = zonas_inter_buffer['formal'].sum()\n",
    "            zonas_inter_buffer['informal_tot'] = zonas_inter_buffer['informal'].sum()\n",
    "\n",
    "            lista_valores = abs((zonas_inter_buffer['formal'] / zonas_inter_buffer['formal_tot']) - (zonas_inter_buffer['informal'] / zonas_inter_buffer['informal_tot']))\n",
    "            disimilitud_indice = round((lista_valores.sum()) * 0.5, 3)\n",
    "\n",
    "            zona_inf.loc[r, 'indice'] = disimilitud_indice\n",
    "            zona_inf.loc[r, 'indice_count'] = len(zonas_inter_buffer)\n",
    "\n",
    "        zonas_inter_buffer_2 = zonas_inter_buffer.loc[zonas_inter_buffer.link != list(zona_inf.loc[r, ['link']])[0]]\n",
    "        zonas_inter_buffer_2['formal_tot'] = zonas_inter_buffer_2['formal'].sum()\n",
    "        zonas_inter_buffer_2['informal_tot'] = zonas_inter_buffer_2['informal'].sum()\n",
    "        lista_valores_2 = abs((zonas_inter_buffer_2['formal'] / zonas_inter_buffer_2['formal_tot']) - (zonas_inter_buffer_2['informal'] / zonas_inter_buffer_2['informal_tot']))\n",
    "        disimilitud_indice_2 = round((lista_valores_2.sum()) * 0.5, 3)\n",
    "\n",
    "        zona_inf.loc[r, 'indice_vecindad'] = disimilitud_indice_2\n",
    "\n",
    "        # detección de radios que al agregarlos empeoran la similitud del entorno\n",
    "        zona_inf['dif_indices_entornos'] = zona_inf['indice_vecindad'] - zona_inf['indice'] \n",
    "        zona_inf['dif_indices_entornos_abs'] = abs(zona_inf['indice_vecindad'] - zona_inf['indice'] )\n",
    "\n",
    "    zona_inf.loc[zona_inf.indice != -1].to_file(\"../Data_generada/indice_radios_\"+b[1]+\"30.geojson\")"
   ]
  },
  {
   "cell_type": "code",
   "execution_count": null,
   "metadata": {},
   "outputs": [],
   "source": []
  }
 ],
 "metadata": {
  "kernelspec": {
   "display_name": "ceeu_censar_11",
   "language": "python",
   "name": "python3"
  },
  "language_info": {
   "codemirror_mode": {
    "name": "ipython",
    "version": 3
   },
   "file_extension": ".py",
   "mimetype": "text/x-python",
   "name": "python",
   "nbconvert_exporter": "python",
   "pygments_lexer": "ipython3",
   "version": "3.11.3"
  },
  "orig_nbformat": 4,
  "vscode": {
   "interpreter": {
    "hash": "70367fbc8d869f8951596005640c4e3e555d20d659f215b2f0898a7797389b46"
   }
  }
 },
 "nbformat": 4,
 "nbformat_minor": 2
}
